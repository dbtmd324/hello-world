{
 "cells": [
  {
   "cell_type": "markdown",
   "metadata": {},
   "source": [
    "# 코딩도장 12. 딕셔너리 사용하기"
   ]
  },
  {
   "cell_type": "markdown",
   "metadata": {},
   "source": [
    "## 12.1 딕셔너리 만들기\n",
    "\n",
    "딕셔너리 자료형: 연관된 값을 묶어서 저장하는 용도\n",
    "\n",
    "딕셔너리는 값마다 이름을 붙여서 저장하는 방식\n",
    "\n",
    "사전처럼 이름을 찾아서 값을 가져오는 형식이라 딕셔너리라고 부름\n",
    "\n",
    "딕셔너리 = {키1: 값1, 키2: 값2}"
   ]
  },
  {
   "cell_type": "code",
   "execution_count": 66,
   "metadata": {},
   "outputs": [
    {
     "data": {
      "text/plain": [
       "{'helath': 490, 'mana': 334, 'melee': 550, 'armor': 18.72}"
      ]
     },
     "execution_count": 66,
     "metadata": {},
     "output_type": "execute_result"
    }
   ],
   "source": [
    "# 딕셔너리 예시\n",
    "\n",
    "lux={'helath':490,'mana':334,'melee':550,'armor':18.72}\n",
    "\n",
    "lux # 키값은 1대1로 대응. 중복이 되면 나중에 할당한 값을 가져옴"
   ]
  },
  {
   "cell_type": "code",
   "execution_count": 68,
   "metadata": {},
   "outputs": [
    {
     "data": {
      "text/plain": [
       "{'health': 700, 'mana': 334, 'melee': 550, 'armor': 18.72}"
      ]
     },
     "execution_count": 68,
     "metadata": {},
     "output_type": "execute_result"
    }
   ],
   "source": [
    "# 키값은 1대1로 대응. 중복이 되면 나중에 할당한 값을 가져옴\n",
    "# 키가 중복되면 갖아 뒤에 있는 값만 사용\n",
    "\n",
    "lux={'health':490,'health':700,'mana':334,'melee':550,'armor':18.72}\n",
    "\n",
    "lux"
   ]
  },
  {
   "cell_type": "code",
   "execution_count": 69,
   "metadata": {},
   "outputs": [
    {
     "data": {
      "text/plain": [
       "{100: 'hundred', False: 0, 3.5: [3.5, 35]}"
      ]
     },
     "execution_count": 69,
     "metadata": {},
     "output_type": "execute_result"
    }
   ],
   "source": [
    "# 딕셔너리 키는 문자열뿐만 아니라 정수,실수,불도 사용 가능. 자료형을 섞어서 사용해도 됨\n",
    "# 값에는 리스트, 딕셔너리를 포함 모든 자료형 사용 가능\n",
    "# 딕셔너리 키에는 리스트와 딕셔너리 사용 불가능\n",
    "\n",
    "x={100:'hundred', False:0, 3.5:[3.5,35]}\n",
    "x"
   ]
  },
  {
   "cell_type": "code",
   "execution_count": 70,
   "metadata": {},
   "outputs": [
    {
     "data": {
      "text/plain": [
       "{}"
      ]
     },
     "execution_count": 70,
     "metadata": {},
     "output_type": "execute_result"
    }
   ],
   "source": [
    "# 빈 딕셔너리 만들기\n",
    "\n",
    "x={}\n",
    "x\n",
    "\n"
   ]
  },
  {
   "cell_type": "code",
   "execution_count": 71,
   "metadata": {},
   "outputs": [
    {
     "data": {
      "text/plain": [
       "{}"
      ]
     },
     "execution_count": 71,
     "metadata": {},
     "output_type": "execute_result"
    }
   ],
   "source": [
    "y=dict()\n",
    "y"
   ]
  },
  {
   "cell_type": "code",
   "execution_count": 72,
   "metadata": {},
   "outputs": [
    {
     "data": {
      "text/plain": [
       "{'health': 490, 'mana': 334, 'melee': 550, 'armor': 18.72}"
      ]
     },
     "execution_count": 72,
     "metadata": {},
     "output_type": "execute_result"
    }
   ],
   "source": [
    "# dict()로 딕셔너리 만들기\n",
    "# 1. dict()는 키와 값을 연결하거나, 리스트, 튜플, 딕셔너리로 딕셔너리를 만들 때 사용\n",
    "\n",
    "# 딕셔너리 키 자리에 있는 값을 자동으로 문자열로 변환\n",
    "lux1=dict(health=490,mana=334,melee=550,armor=18.72)\n",
    "lux1"
   ]
  },
  {
   "cell_type": "code",
   "execution_count": 73,
   "metadata": {},
   "outputs": [
    {
     "data": {
      "text/plain": [
       "{'health': 390, 'mana': 334, 'melee': 550, 'armor': 18}"
      ]
     },
     "execution_count": 73,
     "metadata": {},
     "output_type": "execute_result"
    }
   ],
   "source": [
    "# dict()에서 zip 함수를 사용해서 딕셔너리를 만들 수 있음\n",
    "# 2. 키가 들어있는 리스트와 값이 들어있는 리스트를 차례대로 zip에 넣은 뒤 다시 dict에 넣어주면 됨\n",
    "\n",
    "lux2=dict(zip(['health','mana','melee','armor'],[390,334,550,18,72]))\n",
    "lux2"
   ]
  },
  {
   "cell_type": "code",
   "execution_count": 74,
   "metadata": {},
   "outputs": [
    {
     "data": {
      "text/plain": [
       "{'health': 390, 'mana': 334, 'melee': 550, 'armor': 18}"
      ]
     },
     "execution_count": 74,
     "metadata": {},
     "output_type": "execute_result"
    }
   ],
   "source": [
    "# 키와 값을 리스트가 아닌 튜플에 저장해서 zip에 넣어도 됨\n",
    "\n",
    "lux3=dict(zip(('health','mana','melee','armor'),(390,334,550,18,72)))\n",
    "lux3"
   ]
  },
  {
   "cell_type": "code",
   "execution_count": 75,
   "metadata": {},
   "outputs": [
    {
     "data": {
      "text/plain": [
       "{'health': 490, 'mana': 334, 'melee': 550, 'armor': 18.72}"
      ]
     },
     "execution_count": 75,
     "metadata": {},
     "output_type": "execute_result"
    }
   ],
   "source": [
    "# 3.리스트 안에 (키, 값) 형식의 튜플을 나열하는 방법\n",
    "\n",
    "lux3=dict([('health',490),('mana',334),('melee',550),('armor',18.72)])\n",
    "lux3"
   ]
  },
  {
   "cell_type": "code",
   "execution_count": 76,
   "metadata": {},
   "outputs": [
    {
     "data": {
      "text/plain": [
       "{'health': 490, 'mana': 334, 'melee': 550, 'armor': 18.72}"
      ]
     },
     "execution_count": 76,
     "metadata": {},
     "output_type": "execute_result"
    }
   ],
   "source": [
    "# 4. dict()안에서 중괄호로 딕셔너리를 생성\n",
    "\n",
    "lux4=dict({'health':490,'mana':334,'melee':550,'armor':18.72})\n",
    "lux4"
   ]
  },
  {
   "cell_type": "markdown",
   "metadata": {},
   "source": [
    "## 12.2 딕셔너리 키에 접근하고 값 할당하기\n",
    "\n",
    "딕셔너리 키에 접근할 때는 딕셔너리 뒤에 []를 사용하여 키를 지정해주면 됨\n",
    "\n",
    "딕셔너리[키]"
   ]
  },
  {
   "cell_type": "code",
   "execution_count": 78,
   "metadata": {},
   "outputs": [
    {
     "data": {
      "text/plain": [
       "700"
      ]
     },
     "execution_count": 78,
     "metadata": {},
     "output_type": "execute_result"
    }
   ],
   "source": [
    "lux['health'] # 키로 값 찾기"
   ]
  },
  {
   "cell_type": "code",
   "execution_count": 79,
   "metadata": {},
   "outputs": [
    {
     "data": {
      "text/plain": [
       "{'health': 2037, 'mana': 1184, 'melee': 550, 'armor': 18.72}"
      ]
     },
     "execution_count": 79,
     "metadata": {},
     "output_type": "execute_result"
    }
   ],
   "source": [
    "# 딕셔너리 키에 값 할당하기\n",
    "# 딕셔너리는 []로 키에 접근한 뒤 값을 할당함\n",
    "\n",
    "lux['health']=2037\n",
    "lux['mana']=1184\n",
    "lux"
   ]
  },
  {
   "cell_type": "code",
   "execution_count": 80,
   "metadata": {},
   "outputs": [
    {
     "data": {
      "text/plain": [
       "True"
      ]
     },
     "execution_count": 80,
     "metadata": {},
     "output_type": "execute_result"
    }
   ],
   "source": [
    "# 딕셔너리에 없는 키에서 값을 가져오려고 하면 에러 발생\n",
    "# 딕셔너리에 키가 있는지 확인하고 싶다면 in 연산자를 사용하면 됨\n",
    "# 키 in 딕셔너리\n",
    "\n",
    "'health' in lux # 있으면 True, 없으면 False"
   ]
  },
  {
   "cell_type": "code",
   "execution_count": 81,
   "metadata": {},
   "outputs": [
    {
     "data": {
      "text/plain": [
       "True"
      ]
     },
     "execution_count": 81,
     "metadata": {},
     "output_type": "execute_result"
    }
   ],
   "source": [
    "# not in 연산자를 쓰면 키가 없는지 물어보는 것\n",
    "\n",
    "'구민진' not in lux # 없으면 True, 있으면 False"
   ]
  },
  {
   "cell_type": "code",
   "execution_count": 82,
   "metadata": {},
   "outputs": [
    {
     "data": {
      "text/plain": [
       "4"
      ]
     },
     "execution_count": 82,
     "metadata": {},
     "output_type": "execute_result"
    }
   ],
   "source": [
    "# 딕셔너리 키 개수 구하기\n",
    "# 실무에서는 함수 등을 사용해 딕셔너리를 생성하거나 키를 추가\n",
    "# 키의 개수가 눈에 보이지 않음\n",
    "# 키의 개수는 len 함수를 사용하여 구함\n",
    "\n",
    "len(lux)"
   ]
  },
  {
   "cell_type": "code",
   "execution_count": 83,
   "metadata": {},
   "outputs": [
    {
     "data": {
      "text/plain": [
       "4"
      ]
     },
     "execution_count": 83,
     "metadata": {},
     "output_type": "execute_result"
    }
   ],
   "source": [
    "# 딕셔너리를 직접 입력해도 됨\n",
    "\n",
    "len({'health':490,'health':700,'mana':334,'melee':550,'armor':18.72})"
   ]
  },
  {
   "cell_type": "code",
   "execution_count": 84,
   "metadata": {},
   "outputs": [
    {
     "name": "stdout",
     "output_type": "stream",
     "text": [
      "health health_regen mana mana_regen\n",
      "575.6 1.7 338.8 1.63\n",
      "{'health': '575.6', 'health_regen': '1.7', 'mana': '338.8', 'mana_regen': '1.63'}\n"
     ]
    }
   ],
   "source": [
    "a=input().split()\n",
    "a=list(a)\n",
    "b=input().split()\n",
    "b=list(b)\n",
    "\n",
    "print(dict(zip(a,b)))"
   ]
  },
  {
   "cell_type": "code",
   "execution_count": null,
   "metadata": {},
   "outputs": [],
   "source": []
  }
 ],
 "metadata": {
  "kernelspec": {
   "display_name": "Python 3",
   "language": "python",
   "name": "python3"
  },
  "language_info": {
   "codemirror_mode": {
    "name": "ipython",
    "version": 3
   },
   "file_extension": ".py",
   "mimetype": "text/x-python",
   "name": "python",
   "nbconvert_exporter": "python",
   "pygments_lexer": "ipython3",
   "version": "3.7.4"
  }
 },
 "nbformat": 4,
 "nbformat_minor": 2
}
