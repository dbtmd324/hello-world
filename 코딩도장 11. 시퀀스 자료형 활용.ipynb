{
 "cells": [
  {
   "cell_type": "markdown",
   "metadata": {},
   "source": [
    "# 파이썬 기초 및 심화 학습"
   ]
  },
  {
   "cell_type": "markdown",
   "metadata": {},
   "source": [
    "## 11.1 시퀀스 자료형의 공통 기능 사용하기\n",
    "\n",
    "값이 연속적으로 이어진 자료형"
   ]
  },
  {
   "cell_type": "markdown",
   "metadata": {},
   "source": [
    "시퀀스 자료형의 가장 큰 특징: 공통된 동작과 기능을 제공한다는 점\n",
    "시퀀스 자료형의 기본적인 사용 방법을 익혀 두면 나중에 어떠한 시퀀스 자료형을 접하게 되더라도 큰 어려움 없이 바로 사용할 수 있음.\n",
    "\n",
    "시퀀스 객체: 시퀀스 자료형으로 만든 객체\n",
    "\n",
    "요소(element): 시퀀스 객체에 들어있는 각 값"
   ]
  },
  {
   "cell_type": "code",
   "execution_count": 1,
   "metadata": {},
   "outputs": [
    {
     "data": {
      "text/plain": [
       "True"
      ]
     },
     "execution_count": 1,
     "metadata": {},
     "output_type": "execute_result"
    }
   ],
   "source": [
    "# 1. 특정 값이 있는 지 확인하기\n",
    "\n",
    "# 시퀀스 객체에 in 연산자: 특정 값이 있으면 True, 없으면 False\n",
    "\n",
    "a = [0, 10, 20, 30, 40, 50, 60, 70, 80, 90]\n",
    "\n",
    "30 in a # a에 30이 있나요?"
   ]
  },
  {
   "cell_type": "code",
   "execution_count": 3,
   "metadata": {},
   "outputs": [
    {
     "data": {
      "text/plain": [
       "True"
      ]
     },
     "execution_count": 3,
     "metadata": {},
     "output_type": "execute_result"
    }
   ],
   "source": [
    "# 시퀀스 객체에 not in 연산자: 특정 값이 없으면 True, 있으면 False\n",
    "100 not in a # tuple, range, str 요소도 똑같이 사용 가능"
   ]
  },
  {
   "cell_type": "code",
   "execution_count": 6,
   "metadata": {},
   "outputs": [
    {
     "data": {
      "text/plain": [
       "[0, 10, 20, 30, 40, 50, 60, 70, 80, 90, 'hello', 'python', '원유승']"
      ]
     },
     "execution_count": 6,
     "metadata": {},
     "output_type": "execute_result"
    }
   ],
   "source": [
    "# 2. 시퀀스 객체 연결하기\n",
    "\n",
    "# + 연산자로 두 객체를 연결할 수 있음\n",
    "\n",
    "a = [0, 10, 20, 30, 40, 50, 60, 70, 80, 90]\n",
    "b = ['hello', 'python', '원유승']\n",
    "\n",
    "a + b # 변수를 만들지 않고 리스트 여러 개를 직접 연결해도 상관없음"
   ]
  },
  {
   "cell_type": "code",
   "execution_count": 11,
   "metadata": {},
   "outputs": [
    {
     "data": {
      "text/plain": [
       "(3, 4, 20, 21, 22, 23, 24, 25, 26, 27, 28, 29)"
      ]
     },
     "execution_count": 11,
     "metadata": {},
     "output_type": "execute_result"
    }
   ],
   "source": [
    "# range는 + 연산자로 객체를 연결할 수 없음\n",
    "\n",
    "# 리스트 또는 튜플로 변환해서 연결하면 가능\n",
    "\n",
    "list(range(0, 10)) + list(range(10,20))\n",
    "tuple(range(3,5)) + tuple(range(20,30))"
   ]
  },
  {
   "cell_type": "code",
   "execution_count": 13,
   "metadata": {},
   "outputs": [
    {
     "data": {
      "text/plain": [
       "['Balance Sheet : OK',\n",
       " 'Statement of Comprehensive income : OK',\n",
       " 'Income Statement',\n",
       " 'Footnotes : OK',\n",
       " 'Statement of Cash Flows : OK']"
      ]
     },
     "execution_count": 13,
     "metadata": {},
     "output_type": "execute_result"
    }
   ],
   "source": [
    "# 문자열도 연결 가능\n",
    "\n",
    "# 파이썬에서 여러 결과를 한번에 출력할 때 유용함\n",
    "\n",
    "c = ['Balance Sheet : OK']\n",
    "d = ['Statement of Comprehensive income : OK']\n",
    "e = ['Income Statement']\n",
    "f = ['Footnotes : OK']\n",
    "g = ['Statement of Cash Flows : OK']\n",
    "\n",
    "c+d+e+f+g"
   ]
  },
  {
   "cell_type": "code",
   "execution_count": 14,
   "metadata": {},
   "outputs": [
    {
     "data": {
      "text/plain": [
       "[0, 10, 20, 30, 0, 10, 20, 30, 0, 10, 20, 30]"
      ]
     },
     "execution_count": 14,
     "metadata": {},
     "output_type": "execute_result"
    }
   ],
   "source": [
    "# 3. 시퀀스 객체 반복하기\n",
    "\n",
    "# * 연산자를 통해 시퀀스 객체를 특정 횟수만큼 반복하여 새 시퀀스 객체를 만듦\n",
    "\n",
    "# 0 또는 음수를 곱하면 빈 객체가 나옴. 실수는 곱셈 불가\n",
    "\n",
    "h = [0,10, 20, 30]\n",
    "\n",
    "h * 3"
   ]
  },
  {
   "cell_type": "code",
   "execution_count": 15,
   "metadata": {},
   "outputs": [
    {
     "data": {
      "text/plain": [
       "[0, 1, 2, 3, 4, 0, 1, 2, 3, 4, 0, 1, 2, 3, 4]"
      ]
     },
     "execution_count": 15,
     "metadata": {},
     "output_type": "execute_result"
    }
   ],
   "source": [
    "# range는 * 연산자로 반복 불가능. 리스트나 튜플로 변환\n",
    "\n",
    "list(range(0,5))*3"
   ]
  },
  {
   "cell_type": "code",
   "execution_count": 16,
   "metadata": {},
   "outputs": [
    {
     "data": {
      "text/plain": [
       "'구밍딩구밍딩구밍딩'"
      ]
     },
     "execution_count": 16,
     "metadata": {},
     "output_type": "execute_result"
    }
   ],
   "source": [
    "# 문자열은 * 연산자 사용 가능\n",
    "\n",
    "'구밍딩'*3"
   ]
  },
  {
   "cell_type": "markdown",
   "metadata": {},
   "source": [
    "## 11.2 시퀀스 객체의 요소 개수 구하기\n",
    "\n",
    "사용방법: len(객체)"
   ]
  },
  {
   "cell_type": "code",
   "execution_count": 17,
   "metadata": {},
   "outputs": [
    {
     "data": {
      "text/plain": [
       "10"
      ]
     },
     "execution_count": 17,
     "metadata": {},
     "output_type": "execute_result"
    }
   ],
   "source": [
    "a=[0,10,20,30,40,50,60,70,80,90]\n",
    "\n",
    "len(a) # 리스트 a의 길이는?"
   ]
  },
  {
   "cell_type": "code",
   "execution_count": 18,
   "metadata": {},
   "outputs": [
    {
     "data": {
      "text/plain": [
       "3"
      ]
     },
     "execution_count": 18,
     "metadata": {},
     "output_type": "execute_result"
    }
   ],
   "source": [
    "a=['kor', 'end', 'meet']\n",
    "\n",
    "len(a) # 문자도 가능"
   ]
  },
  {
   "cell_type": "code",
   "execution_count": 19,
   "metadata": {},
   "outputs": [
    {
     "data": {
      "text/plain": [
       "5"
      ]
     },
     "execution_count": 19,
     "metadata": {},
     "output_type": "execute_result"
    }
   ],
   "source": [
    "b=(38, 76, 43, 62, 19)\n",
    "\n",
    "len(b) # 튜플 a의 길이는?"
   ]
  },
  {
   "cell_type": "code",
   "execution_count": 20,
   "metadata": {},
   "outputs": [
    {
     "data": {
      "text/plain": [
       "10"
      ]
     },
     "execution_count": 20,
     "metadata": {},
     "output_type": "execute_result"
    }
   ],
   "source": [
    "len(range(0,10)) # range의 길이도 구하기 가능"
   ]
  },
  {
   "cell_type": "code",
   "execution_count": 21,
   "metadata": {},
   "outputs": [
    {
     "data": {
      "text/plain": [
       "13"
      ]
     },
     "execution_count": 21,
     "metadata": {},
     "output_type": "execute_result"
    }
   ],
   "source": [
    "# 문자열 길이 구하기\n",
    "\n",
    "hello ='hello, world!'\n",
    "\n",
    "len(hello) #문자열의 길이도 구하기 가능. 공백 포함"
   ]
  },
  {
   "cell_type": "code",
   "execution_count": 22,
   "metadata": {},
   "outputs": [
    {
     "data": {
      "text/plain": [
       "3"
      ]
     },
     "execution_count": 22,
     "metadata": {},
     "output_type": "execute_result"
    }
   ],
   "source": [
    "a='원유승'\n",
    "\n",
    "len(a) #따옴표는 문자열을 표현하는 문법. 길이에 포함되지 않음."
   ]
  },
  {
   "cell_type": "markdown",
   "metadata": {},
   "source": [
    "## 11.3 인덱스 사용하기\n",
    "\n",
    "시퀀스 객체의 각 요소는 순서가 정해져 있음. 이 순서를 인덱스라 부름.\n",
    "\n",
    "시퀀스 객체에 대괄호[]를 붙이고 []안에 각 요소의 인덱스를 지정하면 해당 요소에 접근 가능\n",
    "\n",
    "시퀀스 객체[인덱스]"
   ]
  },
  {
   "cell_type": "code",
   "execution_count": 23,
   "metadata": {},
   "outputs": [
    {
     "data": {
      "text/plain": [
       "[38, 21, 53, 62, 19]"
      ]
     },
     "execution_count": 23,
     "metadata": {},
     "output_type": "execute_result"
    }
   ],
   "source": [
    "a=[38,21,53,62,19]\n",
    "a"
   ]
  },
  {
   "cell_type": "code",
   "execution_count": 24,
   "metadata": {},
   "outputs": [
    {
     "data": {
      "text/plain": [
       "38"
      ]
     },
     "execution_count": 24,
     "metadata": {},
     "output_type": "execute_result"
    }
   ],
   "source": [
    "a[0] # a의 첫번째 요소를 보여달라는 것"
   ]
  },
  {
   "cell_type": "code",
   "execution_count": 25,
   "metadata": {},
   "outputs": [
    {
     "data": {
      "text/plain": [
       "53"
      ]
     },
     "execution_count": 25,
     "metadata": {},
     "output_type": "execute_result"
    }
   ],
   "source": [
    "a[2] # a의 세번째 요소를 보여달라는 것"
   ]
  },
  {
   "cell_type": "code",
   "execution_count": 26,
   "metadata": {},
   "outputs": [
    {
     "data": {
      "text/plain": [
       "'w'"
      ]
     },
     "execution_count": 26,
     "metadata": {},
     "output_type": "execute_result"
    }
   ],
   "source": [
    "# 문자열도 인덱싱 가능\n",
    "\n",
    "hello = 'hello, world!'\n",
    "\n",
    "hello[7] # hello의 여덟번째 문자를 보여달라는 것"
   ]
  },
  {
   "cell_type": "code",
   "execution_count": 27,
   "metadata": {},
   "outputs": [
    {
     "data": {
      "text/plain": [
       "19"
      ]
     },
     "execution_count": 27,
     "metadata": {},
     "output_type": "execute_result"
    }
   ],
   "source": [
    "#음수 인덱스 지정\n",
    "\n",
    "a[-1] # 리스트 뒤에서 첫번째 요소 출력"
   ]
  },
  {
   "cell_type": "code",
   "execution_count": 28,
   "metadata": {},
   "outputs": [
    {
     "data": {
      "text/plain": [
       "38"
      ]
     },
     "execution_count": 28,
     "metadata": {},
     "output_type": "execute_result"
    }
   ],
   "source": [
    "a[-5] # 리스트 뒤에서 다섯번째 요소 출력"
   ]
  },
  {
   "cell_type": "code",
   "execution_count": 29,
   "metadata": {},
   "outputs": [
    {
     "data": {
      "text/plain": [
       "4"
      ]
     },
     "execution_count": 29,
     "metadata": {},
     "output_type": "execute_result"
    }
   ],
   "source": [
    "# range도 음수 인덱스로 접근 가능\n",
    "\n",
    "r = range(0,10,2)\n",
    "\n",
    "r[-3] # range의 뒤에서 세번째 요소 출력"
   ]
  },
  {
   "cell_type": "code",
   "execution_count": 30,
   "metadata": {},
   "outputs": [
    {
     "data": {
      "text/plain": [
       "'l'"
      ]
     },
     "execution_count": 30,
     "metadata": {},
     "output_type": "execute_result"
    }
   ],
   "source": [
    "hello[-3]"
   ]
  },
  {
   "cell_type": "markdown",
   "metadata": {},
   "source": [
    "인덱스의 범위를 벗어나면? IndexError 발생"
   ]
  },
  {
   "cell_type": "code",
   "execution_count": 32,
   "metadata": {},
   "outputs": [
    {
     "data": {
      "text/plain": [
       "19"
      ]
     },
     "execution_count": 32,
     "metadata": {},
     "output_type": "execute_result"
    }
   ],
   "source": [
    "a[len(a)-1] # a의 마지막 요소 출력"
   ]
  },
  {
   "cell_type": "code",
   "execution_count": 33,
   "metadata": {},
   "outputs": [
    {
     "data": {
      "text/plain": [
       "[1, 2, 3, 4, 5]"
      ]
     },
     "execution_count": 33,
     "metadata": {},
     "output_type": "execute_result"
    }
   ],
   "source": [
    "# 시퀀스 요소에 값 할당하기\n",
    "\n",
    "a=[0,0,0,0,0] # 리스트의 각 요소에 값을 새로 할당할 수 있음\n",
    "a[0]=1\n",
    "a[1]=2\n",
    "a[2]=3\n",
    "a[3]=4\n",
    "a[4]=5\n",
    "\n",
    "a"
   ]
  },
  {
   "cell_type": "markdown",
   "metadata": {},
   "source": [
    "튜플, range는 요소에 값 할당 불가능"
   ]
  },
  {
   "cell_type": "code",
   "execution_count": 35,
   "metadata": {},
   "outputs": [
    {
     "ename": "TypeError",
     "evalue": "'str' object does not support item assignment",
     "output_type": "error",
     "traceback": [
      "\u001b[1;31m---------------------------------------------------------------------------\u001b[0m",
      "\u001b[1;31mTypeError\u001b[0m                                 Traceback (most recent call last)",
      "\u001b[1;32m<ipython-input-35-fbac4b21bc8c>\u001b[0m in \u001b[0;36m<module>\u001b[1;34m\u001b[0m\n\u001b[0;32m      2\u001b[0m \u001b[1;33m\u001b[0m\u001b[0m\n\u001b[0;32m      3\u001b[0m \u001b[0mhello\u001b[0m\u001b[1;33m=\u001b[0m\u001b[1;34m'Hello, world!'\u001b[0m\u001b[1;33m\u001b[0m\u001b[1;33m\u001b[0m\u001b[0m\n\u001b[1;32m----> 4\u001b[1;33m \u001b[0mhello\u001b[0m\u001b[1;33m[\u001b[0m\u001b[1;36m0\u001b[0m\u001b[1;33m]\u001b[0m\u001b[1;33m=\u001b[0m\u001b[1;34m'F'\u001b[0m\u001b[1;33m\u001b[0m\u001b[1;33m\u001b[0m\u001b[0m\n\u001b[0m\u001b[0;32m      5\u001b[0m \u001b[0mhello\u001b[0m\u001b[1;33m[\u001b[0m\u001b[1;36m0\u001b[0m\u001b[1;33m]\u001b[0m\u001b[1;33m\u001b[0m\u001b[1;33m\u001b[0m\u001b[0m\n",
      "\u001b[1;31mTypeError\u001b[0m: 'str' object does not support item assignment"
     ]
    }
   ],
   "source": [
    "# 문자열 요소에 값 할당하기는 불가능\n",
    "\n",
    "hello='Hello, world!'\n",
    "hello[0]='F'\n",
    "hello[0]"
   ]
  },
  {
   "cell_type": "code",
   "execution_count": 36,
   "metadata": {},
   "outputs": [
    {
     "data": {
      "text/plain": [
       "[38, 21, 62, 19]"
      ]
     },
     "execution_count": 36,
     "metadata": {},
     "output_type": "execute_result"
    }
   ],
   "source": [
    "# del로 시퀀스 객체의 요소를 삭제하기. \n",
    "\n",
    "a=[38,21,53,62,19]\n",
    "\n",
    "del a[2] # a의 세번째 요소를 삭제해달라는 것\n",
    "\n",
    "a"
   ]
  },
  {
   "cell_type": "markdown",
   "metadata": {},
   "source": [
    "튜플, range, 문자열도 저장된 요소 삭제 불가능"
   ]
  },
  {
   "cell_type": "markdown",
   "metadata": {},
   "source": [
    "## 11.4 슬라이스(Slice) 사용하기\n",
    "\n",
    "시퀀스 슬라이스: 시퀀스 객체의 일부를 잘라냄\n",
    "\n",
    "사용 방법: 시퀀스객체[시작 인덱스:끝 인덱스]"
   ]
  },
  {
   "cell_type": "code",
   "execution_count": 42,
   "metadata": {},
   "outputs": [
    {
     "data": {
      "text/plain": [
       "[0, 10, 20]"
      ]
     },
     "execution_count": 42,
     "metadata": {},
     "output_type": "execute_result"
    }
   ],
   "source": [
    "# 리스트의 일부를 잘라서 새 리스트를 만듦\n",
    "\n",
    "a = [0,10,20,30,40,50,60,70,80,90,100]\n",
    "\n",
    "a[0:3] # a의 인덱스 0부터 2까지 잘라서 새 리스트를 만듦"
   ]
  },
  {
   "cell_type": "code",
   "execution_count": 38,
   "metadata": {},
   "outputs": [
    {
     "data": {
      "text/plain": [
       "[]"
      ]
     },
     "execution_count": 38,
     "metadata": {},
     "output_type": "execute_result"
    }
   ],
   "source": [
    "# 끝 인덱스가 시작 인덱스보다 최소 1 더 커야함\n",
    "\n",
    "a[1:1] # 가져올 것이 없음"
   ]
  },
  {
   "cell_type": "code",
   "execution_count": 39,
   "metadata": {},
   "outputs": [
    {
     "data": {
      "text/plain": [
       "[10]"
      ]
     },
     "execution_count": 39,
     "metadata": {},
     "output_type": "execute_result"
    }
   ],
   "source": [
    "a[1:2] # 1개 가져옴"
   ]
  },
  {
   "cell_type": "code",
   "execution_count": 40,
   "metadata": {},
   "outputs": [
    {
     "data": {
      "text/plain": [
       "[40, 50]"
      ]
     },
     "execution_count": 40,
     "metadata": {},
     "output_type": "execute_result"
    }
   ],
   "source": [
    "# 리스트의 중간 부분 가져오기\n",
    "a[4:6] # 인덱스 4부터 5까지 요소 3개를 가져옴"
   ]
  },
  {
   "cell_type": "code",
   "execution_count": 43,
   "metadata": {},
   "outputs": [
    {
     "data": {
      "text/plain": [
       "[40, 50, 60, 70, 80, 90]"
      ]
     },
     "execution_count": 43,
     "metadata": {},
     "output_type": "execute_result"
    }
   ],
   "source": [
    "a[4:-1] # 음수도 사용 가능"
   ]
  },
  {
   "cell_type": "code",
   "execution_count": 44,
   "metadata": {},
   "outputs": [
    {
     "data": {
      "text/plain": [
       "[20, 50]"
      ]
     },
     "execution_count": 44,
     "metadata": {},
     "output_type": "execute_result"
    }
   ],
   "source": [
    "# 인덱스를 건너뛰면 요소를 가져올 수 있음\n",
    "\n",
    "a[2:8:3] # 인덱스 증가폭 지정. 인덱스 2부터 3씩 증가시켜 7까지 가져옴"
   ]
  },
  {
   "cell_type": "code",
   "execution_count": 45,
   "metadata": {},
   "outputs": [
    {
     "data": {
      "text/plain": [
       "[20, 50, 80]"
      ]
     },
     "execution_count": 45,
     "metadata": {},
     "output_type": "execute_result"
    }
   ],
   "source": [
    "# 끝 인덱스와 증가한 인덱스가 일치하면 가져올 수 있음\n",
    "\n",
    "a[2:9:3]"
   ]
  },
  {
   "cell_type": "code",
   "execution_count": 46,
   "metadata": {},
   "outputs": [
    {
     "data": {
      "text/plain": [
       "[0, 10, 20, 30, 40, 50, 60]"
      ]
     },
     "execution_count": 46,
     "metadata": {},
     "output_type": "execute_result"
    }
   ],
   "source": [
    "# 인덱스 생략도 가능\n",
    "# 시퀀스 객체의 길이를 모르는 경우가 많기 때문에 자주 사용됨\n",
    "\n",
    "a[:7] # 리스트를 처음부터 인덱스 6까지 가져옴"
   ]
  },
  {
   "cell_type": "code",
   "execution_count": 47,
   "metadata": {},
   "outputs": [
    {
     "data": {
      "text/plain": [
       "[30, 40, 50, 60, 70, 80, 90, 100]"
      ]
     },
     "execution_count": 47,
     "metadata": {},
     "output_type": "execute_result"
    }
   ],
   "source": [
    "a[3:] # 리스트를 인덱스 3부터 끝까지 가져옴"
   ]
  },
  {
   "cell_type": "code",
   "execution_count": 48,
   "metadata": {},
   "outputs": [
    {
     "data": {
      "text/plain": [
       "[0, 10, 20, 30, 40, 50, 60, 70, 80, 90, 100]"
      ]
     },
     "execution_count": 48,
     "metadata": {},
     "output_type": "execute_result"
    }
   ],
   "source": [
    "a[:] # 리스트 전체를 가져옴"
   ]
  },
  {
   "cell_type": "code",
   "execution_count": 49,
   "metadata": {},
   "outputs": [
    {
     "data": {
      "text/plain": [
       "[0, 20, 40, 60]"
      ]
     },
     "execution_count": 49,
     "metadata": {},
     "output_type": "execute_result"
    }
   ],
   "source": [
    "a[:7:2] # 처음부터 인덱스 6까지 2만큼 증가하면서 가져옴"
   ]
  },
  {
   "cell_type": "code",
   "execution_count": 50,
   "metadata": {},
   "outputs": [
    {
     "data": {
      "text/plain": [
       "[70, 90]"
      ]
     },
     "execution_count": 50,
     "metadata": {},
     "output_type": "execute_result"
    }
   ],
   "source": [
    "a[7::2] # 인덱스 7부터 마지막까지 2만큼 증가하면서 가져옴"
   ]
  },
  {
   "cell_type": "code",
   "execution_count": 51,
   "metadata": {},
   "outputs": [
    {
     "data": {
      "text/plain": [
       "[0, 20, 40, 60, 80, 100]"
      ]
     },
     "execution_count": 51,
     "metadata": {},
     "output_type": "execute_result"
    }
   ],
   "source": [
    "a[::2] # 리스트를 처음부터 끝까지 2만큼 증가하면서 가져옴"
   ]
  },
  {
   "cell_type": "code",
   "execution_count": 53,
   "metadata": {},
   "outputs": [
    {
     "data": {
      "text/plain": [
       "[0, 10, 20, 30, 40, 50, 60, 70, 80, 90, 100]"
      ]
     },
     "execution_count": 53,
     "metadata": {},
     "output_type": "execute_result"
    }
   ],
   "source": [
    "# len() 응용 가능\n",
    "\n",
    "a[:len(a)] # len(a)-1을 하면 안됨"
   ]
  },
  {
   "cell_type": "code",
   "execution_count": 54,
   "metadata": {},
   "outputs": [
    {
     "data": {
      "text/plain": [
       "(40, 50, 60)"
      ]
     },
     "execution_count": 54,
     "metadata": {},
     "output_type": "execute_result"
    }
   ],
   "source": [
    "# 튜플도 슬라이스 사용 가능. 잘라서 이용하는 건 요소를 변경시키지 않음\n",
    "\n",
    "b =(0,10,20,30,40,50,60,70,80,90)\n",
    "\n",
    "b[4:7]"
   ]
  },
  {
   "cell_type": "code",
   "execution_count": 55,
   "metadata": {},
   "outputs": [
    {
     "data": {
      "text/plain": [
       "range(4, 7)"
      ]
     },
     "execution_count": 55,
     "metadata": {},
     "output_type": "execute_result"
    }
   ],
   "source": [
    "# range에도 슬라이스 사용 가능.\n",
    "\n",
    "r=range(0,10)\n",
    "\n",
    "r[4:7]"
   ]
  },
  {
   "cell_type": "code",
   "execution_count": 56,
   "metadata": {},
   "outputs": [
    {
     "data": {
      "text/plain": [
       "range(0, 7, 2)"
      ]
     },
     "execution_count": 56,
     "metadata": {},
     "output_type": "execute_result"
    }
   ],
   "source": [
    "r[:7:2] # 결과값이 range 형태로 표현됨. 생성범위만 표시됨"
   ]
  },
  {
   "cell_type": "code",
   "execution_count": 57,
   "metadata": {},
   "outputs": [
    {
     "data": {
      "text/plain": [
       "[0, 2, 4, 6]"
      ]
     },
     "execution_count": 57,
     "metadata": {},
     "output_type": "execute_result"
    }
   ],
   "source": [
    "# 잘라낸 range 객체를 list에 넣으면 요소들 확인 가능\n",
    "\n",
    "list(r[:7:2])"
   ]
  },
  {
   "cell_type": "code",
   "execution_count": 58,
   "metadata": {},
   "outputs": [
    {
     "data": {
      "text/plain": [
       "'llo, wo'"
      ]
     },
     "execution_count": 58,
     "metadata": {},
     "output_type": "execute_result"
    }
   ],
   "source": [
    "# 문자열도 슬라이스 이용 가능\n",
    "\n",
    "hello='Hello, world!'\n",
    "\n",
    "hello[2:9] # 공백 포함"
   ]
  },
  {
   "cell_type": "code",
   "execution_count": 59,
   "metadata": {},
   "outputs": [
    {
     "data": {
      "text/plain": [
       "'Hlo '"
      ]
     },
     "execution_count": 59,
     "metadata": {},
     "output_type": "execute_result"
    }
   ],
   "source": [
    "hello[:7:2]"
   ]
  },
  {
   "cell_type": "markdown",
   "metadata": {},
   "source": [
    "시퀀스 객체는 슬라이스로 범위를 지정해 여러 요소 값 할당 가능\n",
    "\n",
    "사용 방법: 시퀀스 객체[시작 인덱스:끝 인덱스] = 시퀀스 객체"
   ]
  },
  {
   "cell_type": "code",
   "execution_count": 60,
   "metadata": {},
   "outputs": [
    {
     "data": {
      "text/plain": [
       "[0, 10, 'a', 'b', 'c', 50, 60, 70, 80, 90]"
      ]
     },
     "execution_count": 60,
     "metadata": {},
     "output_type": "execute_result"
    }
   ],
   "source": [
    "# 리스트 특정 범위에 요소 값 할당\n",
    "\n",
    "a = [0,10,20,30,40,50,60,70,80,90]\n",
    "\n",
    "a[2:5] = ['a', 'b', 'c'] # 인덱스 2부터 4까지 값 할당\n",
    "\n",
    "a"
   ]
  },
  {
   "cell_type": "code",
   "execution_count": 61,
   "metadata": {},
   "outputs": [
    {
     "data": {
      "text/plain": [
       "[0, 10, 'a', 50, 60, 70, 80, 90]"
      ]
     },
     "execution_count": 61,
     "metadata": {},
     "output_type": "execute_result"
    }
   ],
   "source": [
    "# 요소 개수를 맞추지 않아도 알아서 할당됨\n",
    "# 할당할 요소 개수가 적으면 그만큼 리스트의 요소 개수도 줄어듦\n",
    "\n",
    "a[2:5] =['a'] # 인덱스 3, 4 자리는 알아서 없어짐\n",
    "\n",
    "a"
   ]
  },
  {
   "cell_type": "code",
   "execution_count": 62,
   "metadata": {},
   "outputs": [
    {
     "data": {
      "text/plain": [
       "[0, 10, 'a', 'b', 'c', 'd', 'e', 70, 80, 90]"
      ]
     },
     "execution_count": 62,
     "metadata": {},
     "output_type": "execute_result"
    }
   ],
   "source": [
    "# 할당할 요소 개수가 많으면 그만큼 리스트의 요소 개수도 늘어남\n",
    "\n",
    "a[2:5]=['a', 'b', 'c', 'd', 'e'] # 인덱스 5,6,7 추가\n",
    "\n",
    "a"
   ]
  },
  {
   "cell_type": "code",
   "execution_count": 63,
   "metadata": {},
   "outputs": [
    {
     "data": {
      "text/plain": [
       "[0, 10, 'a', 'b', 'b', 'd', 'c', 70, 80, 90]"
      ]
     },
     "execution_count": 63,
     "metadata": {},
     "output_type": "execute_result"
    }
   ],
   "source": [
    "# 인덱스 증가폭을 지정하여 할당\n",
    "# 이때는 할당할 요소 개수와 리스트의 요소 개수도 일치해야됨\n",
    "\n",
    "a[2:8:2]=['a','b','c']\n",
    "\n",
    "a"
   ]
  },
  {
   "cell_type": "markdown",
   "metadata": {},
   "source": [
    "튜플, range, 문자열은 슬라이스 범위를 지정하더라도 요소를 할당할 수 없음"
   ]
  },
  {
   "cell_type": "code",
   "execution_count": 64,
   "metadata": {},
   "outputs": [
    {
     "data": {
      "text/plain": [
       "[0, 10, 'b', 'd', 70, 80, 90]"
      ]
     },
     "execution_count": 64,
     "metadata": {},
     "output_type": "execute_result"
    }
   ],
   "source": [
    "# del로 슬라이스를 삭제할 수 있음\n",
    "\n",
    "del a[2:8:2]\n",
    "\n",
    "a"
   ]
  },
  {
   "cell_type": "markdown",
   "metadata": {},
   "source": [
    "튜플,range,문자열은 del로 슬라이스 삭제 불가능"
   ]
  },
  {
   "cell_type": "code",
   "execution_count": null,
   "metadata": {},
   "outputs": [],
   "source": []
  }
 ],
 "metadata": {
  "kernelspec": {
   "display_name": "Python 3",
   "language": "python",
   "name": "python3"
  },
  "language_info": {
   "codemirror_mode": {
    "name": "ipython",
    "version": 3
   },
   "file_extension": ".py",
   "mimetype": "text/x-python",
   "name": "python",
   "nbconvert_exporter": "python",
   "pygments_lexer": "ipython3",
   "version": "3.7.4"
  }
 },
 "nbformat": 4,
 "nbformat_minor": 2
}
